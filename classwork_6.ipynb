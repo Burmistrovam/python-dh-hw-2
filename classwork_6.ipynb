{
 "cells": [
  {
   "cell_type": "code",
   "execution_count": 12,
   "metadata": {},
   "outputs": [
    {
     "name": "stdout",
     "output_type": "stream",
     "text": [
      "4\n",
      "30\n",
      "Russia: Moscow\n",
      "France: Paris\n",
      "Turkey: Ankara\n",
      "Georgia: Tbilisi\n",
      "[['варкалось', 'хливкие'], ['хливкие', 'шорьки'], ['шорьки', 'пырялись'], ['пырялись', 'по'], ['по', 'наве'], ['наве', 'и'], ['и', 'хрюкотали'], ['хрюкотали', 'зелюки'], ['зелюки', 'как'], ['как', 'мюмзики'], ['мюмзики', 'в'], ['в', 'мове'], ['мове', 'о'], ['о', 'бойся'], ['бойся', 'бармаглота'], ['бармаглота', 'сын'], ['сын', 'он'], ['он', 'так'], ['так', 'свирлеп'], ['свирлеп', 'и'], ['и', 'дик'], ['дик', 'а'], ['а', 'в'], ['в', 'глyще'], ['глyще', 'рымит'], ['рымит', 'исполин'], ['исполин', 'злопастный'], ['злопастный', 'брандашмыг']]\n"
     ]
    }
   ],
   "source": [
    "a=0\n",
    "n=int(input())\n",
    "for i in range (n+1):\n",
    "    a += i**2\n",
    "print (a)\n",
    "\n",
    "capitals = {\"Russia\": \"Moscow\", \"France\": \"Paris\", \"Turkey\": \"Ankara\", \"Georgia\": \"Tbilisi\", \"Italy\": \"Rome\", \"Great Britain\": \"London\"}\n",
    "for country in capitals.keys():\n",
    "    if country != \"Italy\":\n",
    "        print (\"%s: %s\" %(country,capitals[country]))\n",
    "    else:\n",
    "        break\n",
    "\n",
    "text = \"\"\"варкалось хливкие шорьки пырялись по наве и хрюкотали\n",
    "зелюки как мюмзики в мове о бойся бармаглота сын он так свирлеп\n",
    "и дик а в глyще рымит исполин злопастный брандашмыг\"\"\"\n",
    "monograms = text.split()\n",
    "bigrams = []\n",
    "for i in range(len(monograms)-1):\n",
    "    bigrams.append([monograms[i],monograms[i+1]])\n",
    "print(bigrams)\n",
    "    "
   ]
  },
  {
   "cell_type": "code",
   "execution_count": null,
   "metadata": {},
   "outputs": [],
   "source": []
  }
 ],
 "metadata": {
  "kernelspec": {
   "display_name": "Python 3",
   "language": "python",
   "name": "python3"
  },
  "language_info": {
   "codemirror_mode": {
    "name": "ipython",
    "version": 3
   },
   "file_extension": ".py",
   "mimetype": "text/x-python",
   "name": "python",
   "nbconvert_exporter": "python",
   "pygments_lexer": "ipython3",
   "version": "3.7.0"
  }
 },
 "nbformat": 4,
 "nbformat_minor": 2
}
