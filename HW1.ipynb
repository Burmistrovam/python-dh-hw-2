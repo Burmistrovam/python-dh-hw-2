str1 = "   _~_    "
str2 = "  (o o)   "   
str3 = " /  V  \\  " 
str4 = "/(  _  )\\ " 
str5 = "  ^^ ^^   "
n = int(input())

print (n*str1)
print (n*str2)
print (n*str3)
print (n*str4)
print (n*str5)
