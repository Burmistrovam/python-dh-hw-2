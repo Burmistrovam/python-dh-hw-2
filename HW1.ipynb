{
 "cells": [
  {
   "cell_type": "code",
   "execution_count": null,
   "metadata": {},
   "outputs": [],
   "source": []
  },
  {
   "cell_type": "code",
   "execution_count": null,
   "metadata": {},
   "outputs": [],
   "source": []
  },
  {
   "cell_type": "code",
   "execution_count": 4,
   "metadata": {},
   "outputs": [
    {
     "name": "stdout",
     "output_type": "stream",
     "text": [
      "number of penguins:4\n",
      "   _~_       _~_       _~_       _~_    \n",
      "  (o o)     (o o)     (o o)     (o o)   \n",
      " /  V  \\   /  V  \\   /  V  \\   /  V  \\  \n",
      "/(  _  )\\ /(  _  )\\ /(  _  )\\ /(  _  )\\ \n",
      "  ^^ ^^     ^^ ^^     ^^ ^^     ^^ ^^   \n"
     ]
    }
   ],
   "source": [
    "str1 = \"   _~_    \"\n",
    "str2 = \"  (o o)   \"   \n",
    "str3 = \" /  V  \\\\  \" \n",
    "str4 = \"/(  _  )\\\\ \" \n",
    "str5 = \"  ^^ ^^   \"\n",
    "n = int(input(\"number of penguins:\"))\n",
    "\n",
    "print (n*str1)\n",
    "print (n*str2)\n",
    "print (n*str3)\n",
    "print (n*str4)\n",
    "print (n*str5)\n"
   ]
  },
  {
   "cell_type": "code",
   "execution_count": 5,
   "metadata": {},
   "outputs": [
    {
     "name": "stdout",
     "output_type": "stream",
     "text": [
      "string 4 the 2nd task:5\n",
      "1\n",
      "1\n"
     ]
    }
   ],
   "source": [
    "string2 = input(\"string 4 the 2nd task:\")\n",
    "\n",
    "print(len((string2).split()))\n",
    "print(len(string2))"
   ]
  },
  {
   "cell_type": "code",
   "execution_count": 2,
   "metadata": {},
   "outputs": [
    {
     "name": "stdout",
     "output_type": "stream",
     "text": [
      "string 4 the 3rd task:вам\n",
      "м\n",
      "а\n",
      "вам\n",
      "в\n",
      "вм\n",
      "а\n",
      "мав\n",
      "мв\n",
      "3\n"
     ]
    }
   ],
   "source": [
    "\n",
    "string3 = input (\"string 4 the 3rd task:\")\n",
    "\n",
    "print(string3[2])\n",
    "\n",
    "print(string3[-2])\n",
    "\n",
    "print(string3[:5])\n",
    "\n",
    "print(string3[:-2])\n",
    "\n",
    "a=\"\"\n",
    "i=0\n",
    "while i < len(string3):\n",
    "    if i % 2 == 0:\n",
    "        a += string3[i]\n",
    "    i = i + 1\n",
    "print(a)\n",
    "\n",
    "b=\"\"\n",
    "j=0\n",
    "while j < len(string3):\n",
    "    if j % 2 == 1:\n",
    "        b += string3[j]\n",
    "    j = j + 1\n",
    "print(b)\n",
    "\n",
    "k=1\n",
    "c=\"\"\n",
    "while k <= len(string3):\n",
    "    c += string3[-k]\n",
    "    k+=1\n",
    "print (c)\n",
    "\n",
    "d=\"\"\n",
    "l=1\n",
    "while l <= len(string3):\n",
    "    if l % 2 == 1:\n",
    "        d += string3[-l]\n",
    "    l+=1\n",
    "print (d)\n",
    "print (len(string3))\n"
   ]
  },
  {
   "cell_type": "code",
   "execution_count": 3,
   "metadata": {},
   "outputs": [
    {
     "name": "stdout",
     "output_type": "stream",
     "text": [
      "input a word to check whether it is a palyndrom. You can use either lowercase and uppercase:папа\n",
      "NO\n",
      "input a word to check whether it is a palyndrom. You can use either lowercase and uppercase:пап\n",
      "YES\n"
     ]
    }
   ],
   "source": [
    "string41 = input(\"input a word to check whether it is a palyndrom. You can use either lowercase and uppercase:\")\n",
    "string41 = string41.lower()\n",
    "m=0\n",
    "while m < len(string41):\n",
    "    if string41[m] == string41[-m-1]:\n",
    "        m+=1\n",
    "    else:\n",
    "        print (\"NO\")\n",
    "        break\n",
    "if m == len(string41):\n",
    "    print (\"YES\")\n",
    "\n",
    "string42 = input(\"input a word to check whether it is a palyndrom. You can use either lowercase and uppercase:\")\n",
    "string42 = string42.lower()\n",
    "n=0\n",
    "while n < len(string42):\n",
    "    if string42[n] == string42[-n-1]:\n",
    "        n+=1\n",
    "    else:\n",
    "        print (\"NO\")\n",
    "        break\n",
    "if n == len(string42):\n",
    "    print (\"YES\")\n"
   ]
  },
  {
   "cell_type": "code",
   "execution_count": 6,
   "metadata": {},
   "outputs": [
    {
     "name": "stdout",
     "output_type": "stream",
     "text": [
      "print a word to check whether it is in my dictionary. if there is no such a word, we'll add it:во\n",
      "the word во is added to the dictionary!\n"
     ]
    }
   ],
   "source": [
    "string51 = '''законы физики рядом с черной дырой уже не работают в том представлении в котором мы привыкли \n",
    "пространство время искривляется и все события протекают уже совсем по другому \n",
    "словно пылесос черная дыра поглощает все что находится около нее планеты астероиды свет и прочее \n",
    "ранее считалось что черная дыра ничего не излучает но как доказал стивен хокинг черная дыра излучает антивещество \n",
    "то есть поедает вещество и выделяет антивещество \n",
    "ранее думали что если кинуть в черную дыру человека то ему труба порвет на субатомы \n",
    "но как оказалось по некоторым уравнениям есть определенные траектории путешествия сквозь черную дыру чтоб чувствовать себя нормально \n",
    "правда не ясно что будет за ней другой мир или ничего \n",
    "область вокруг черной дыры которая интересна называется горизонтом событий \n",
    "если туда полететь не зная волшебное уравнение то будет конечно не очень \n",
    "наблюдатель будет видеть как космический корабль влетает в горизонт событий и крайне медленно потом отдаляется пока не застынет в центре\n",
    "у самого же космонавта дела будут идти совсем по другому \n",
    "искривленное пространство будет лепить из него как из пластилина различные формы пока наконец не разорвет все на субатомы \n",
    "но для внешнего наблюдателя космонавт навсегда останется улыбающимся и махающим в иллюминатор застывшим изображением'''\n",
    "string52 = input(\"print a word to check whether it is in my dictionary. if there is no such a word, we'll add it:\")\n",
    "string52 = string52.lower()\n",
    "string52 = string52.strip()\n",
    "list_of_words = string51.split()\n",
    "x={}\n",
    "for w in list_of_words:\n",
    "    x[w] = list_of_words.count(w)\n",
    "if string52 not in list_of_words:\n",
    "    list_of_words.append(string52)\n",
    "    x[string52] = 1\n",
    "    print (\"the word %s is added to the dictionary!\" %(string52))\n",
    "else:\n",
    "    print (\"the word %s is found in the text %d times\" %(string52, x.get(string52)))"
   ]
  },
  {
   "cell_type": "code",
   "execution_count": null,
   "metadata": {},
   "outputs": [],
   "source": []
  }
 ],
 "metadata": {
  "kernelspec": {
   "display_name": "Python 3",
   "language": "python",
   "name": "python3"
  },
  "language_info": {
   "codemirror_mode": {
    "name": "ipython",
    "version": 3
   },
   "file_extension": ".py",
   "mimetype": "text/x-python",
   "name": "python",
   "nbconvert_exporter": "python",
   "pygments_lexer": "ipython3",
   "version": "3.7.0"
  }
 },
 "nbformat": 4,
 "nbformat_minor": 2
}
