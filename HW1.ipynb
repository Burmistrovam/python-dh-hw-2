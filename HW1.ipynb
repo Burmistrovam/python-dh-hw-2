str1 = "   _~_    "
str2 = "  (o o)   "   
str3 = " /  V  \\  " 
str4 = "/(  _  )\\ " 
str5 = "  ^^ ^^   "
n = int(input("number of penguins:"))

print (n*str1)
print (n*str2)
print (n*str3)
print (n*str4)
print (n*str5)

#this was the 1st task

string2 = input("string 4 the 2nd task:")

print(len((string2).split()))
print(len(string2))

#this was the 2nd task

string3 = input ("string 4 the 3rd task:")

print(string3[2])

print(string3[-2])

print(string3[:5])

print(string3[:-2])

a=""
i=0
while i < len(string3):
    if i % 2 == 0:
        a += string3[i]
    i = i + 1
print(a)

b=""
j=0
while j < len(string3):
    if j % 2 == 1:
        b += string3[j]
    j = j + 1
print(b)

k=1
c=""
while k <= len(string3):
    c += string3[-k]
    k+=1
print (c)

d=""
l=1
while l <= len(string3):
    if l % 2 == 1:
        d += string3[-l]
    l+=1
print (d)
print (len(string3))


#this was the 3rd task

string41 = input("input a word to check whether it is a palyndrom. You can use either lowercase and uppercase:")
string41 = string41.lower()
m=0
while m < len(string41):
    if string41[m] == string41[-m-1]:
        m+=1
    else:
        print ("NO")
        break
if m == len(string41):
    print ("YES")

string42 = input("input a word to check whether it is a palyndrom. You can use either lowercase and uppercase:")
string42 = string42.lower()
n=0
while n < len(string42):
    if string42[n] == string42[-n-1]:
        n+=1
    else:
        print ("NO")
        break
if m == len(string42):
    print ("YES")

string51 = '''законы физики рядом с черной дырой уже не работают в том представлении в котором мы привыкли 
пространство время искривляется и все события протекают уже совсем по другому 
словно пылесос черная дыра поглощает все что находится около нее планеты астероиды свет и прочее 
ранее считалось что черная дыра ничего не излучает но как доказал стивен хокинг черная дыра излучает антивещество 
то есть поедает вещество и выделяет антивещество 
ранее думали что если кинуть в черную дыру человека то ему труба порвет на субатомы 
но как оказалось по некоторым уравнениям есть определенные траектории путешествия сквозь черную дыру чтоб чувствовать себя нормально 
правда не ясно что будет за ней другой мир или ничего 
область вокруг черной дыры которая интересна называется горизонтом событий 
если туда полететь не зная волшебное уравнение то будет конечно не очень 
наблюдатель будет видеть как космический корабль влетает в горизонт событий и крайне медленно потом отдаляется пока не застынет в центре
у самого же космонавта дела будут идти совсем по другому 
искривленное пространство будет лепить из него как из пластилина различные формы пока наконец не разорвет все на субатомы 
но для внешнего наблюдателя космонавт навсегда останется улыбающимся и махающим в иллюминатор застывшим изображением'''
string52 = input("print a word to check whether it is in my dictionary. if there is no such a word, we'll add it:")
string52 = string52.lower()
string52 = string52.strip()
list_of_words = string51.split()
x={}
for w in list_of_words:
    x[w] = list_of_words.count(w)
if string52 not in list_of_words:
    list_of_words.append(string52)
    x[string52] = 1
    print ("the word %s is added to the dictionary!" %(string52))
else:
    print ("the word %s is found in the text %d times" %(string52, x.get(string52)))
