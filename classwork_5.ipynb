{
 "cells": [
  {
   "cell_type": "code",
   "execution_count": 4,
   "metadata": {},
   "outputs": [
    {
     "name": "stdout",
     "output_type": "stream",
     "text": [
      "Input a name you are looking up:Chepiga\n",
      "There is no such a name in your notebook. Write down the telephone number of Chepiga89166692938\n",
      "{'Petrov': 89851203234, 'Boshirov': 89152916766, 'Chepiga': 89166692938}\n"
     ]
    }
   ],
   "source": [
    "example = {\"Petrov\":89851203234,\"Boshirov\":89152916766}\n",
    "def check_phone(name,notebook):\n",
    "    if name in notebook:\n",
    "        return notebook[name]\n",
    "    else:\n",
    "        phone_number=int(input(\"There is no such a name in your notebook. Write down the telephone number of %s\" %name))\n",
    "        notebook[name] = phone_number\n",
    "        return notebook\n",
    "print(check_phone(input(\"Input a name you are looking up:\"),example))"
   ]
  },
  {
   "cell_type": "code",
   "execution_count": null,
   "metadata": {},
   "outputs": [],
   "source": []
  }
 ],
 "metadata": {
  "kernelspec": {
   "display_name": "Python 3",
   "language": "python",
   "name": "python3"
  },
  "language_info": {
   "codemirror_mode": {
    "name": "ipython",
    "version": 3
   },
   "file_extension": ".py",
   "mimetype": "text/x-python",
   "name": "python",
   "nbconvert_exporter": "python",
   "pygments_lexer": "ipython3",
   "version": "3.7.0"
  }
 },
 "nbformat": 4,
 "nbformat_minor": 2
}
